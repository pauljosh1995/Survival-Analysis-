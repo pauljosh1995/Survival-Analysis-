{
 "cells": [
  {
   "cell_type": "markdown",
   "metadata": {},
   "source": [
    "# Importing data and preliminary Inspection"
   ]
  },
  {
   "cell_type": "code",
   "execution_count": 176,
   "metadata": {},
   "outputs": [],
   "source": [
    "#Getting the data\n",
    "sur_data = read.csv('survival.csv' , header = T , stringsAsFactors = F)"
   ]
  },
  {
   "cell_type": "code",
   "execution_count": 177,
   "metadata": {},
   "outputs": [
    {
     "data": {
      "text/html": [
       "<table>\n",
       "<thead><tr><th scope=col>X</th><th scope=col>trt</th><th scope=col>celltype</th><th scope=col>time</th><th scope=col>status</th><th scope=col>karno</th><th scope=col>diagtime</th><th scope=col>age</th><th scope=col>prior</th></tr></thead>\n",
       "<tbody>\n",
       "\t<tr><td>1       </td><td>1       </td><td>squamous</td><td> 72     </td><td>1       </td><td>60      </td><td> 7      </td><td>69      </td><td> 0      </td></tr>\n",
       "\t<tr><td>2       </td><td>1       </td><td>squamous</td><td>411     </td><td>1       </td><td>70      </td><td> 5      </td><td>64      </td><td>10      </td></tr>\n",
       "\t<tr><td>3       </td><td>1       </td><td>squamous</td><td>228     </td><td>1       </td><td>60      </td><td> 3      </td><td>38      </td><td> 0      </td></tr>\n",
       "\t<tr><td>4       </td><td>1       </td><td>squamous</td><td>126     </td><td>1       </td><td>60      </td><td> 9      </td><td>63      </td><td>10      </td></tr>\n",
       "\t<tr><td>5       </td><td>1       </td><td>squamous</td><td>118     </td><td>1       </td><td>70      </td><td>11      </td><td>65      </td><td>10      </td></tr>\n",
       "</tbody>\n",
       "</table>\n"
      ],
      "text/latex": [
       "\\begin{tabular}{r|lllllllll}\n",
       " X & trt & celltype & time & status & karno & diagtime & age & prior\\\\\n",
       "\\hline\n",
       "\t 1        & 1        & squamous &  72      & 1        & 60       &  7       & 69       &  0      \\\\\n",
       "\t 2        & 1        & squamous & 411      & 1        & 70       &  5       & 64       & 10      \\\\\n",
       "\t 3        & 1        & squamous & 228      & 1        & 60       &  3       & 38       &  0      \\\\\n",
       "\t 4        & 1        & squamous & 126      & 1        & 60       &  9       & 63       & 10      \\\\\n",
       "\t 5        & 1        & squamous & 118      & 1        & 70       & 11       & 65       & 10      \\\\\n",
       "\\end{tabular}\n"
      ],
      "text/markdown": [
       "\n",
       "| X | trt | celltype | time | status | karno | diagtime | age | prior |\n",
       "|---|---|---|---|---|---|---|---|---|\n",
       "| 1        | 1        | squamous |  72      | 1        | 60       |  7       | 69       |  0       |\n",
       "| 2        | 1        | squamous | 411      | 1        | 70       |  5       | 64       | 10       |\n",
       "| 3        | 1        | squamous | 228      | 1        | 60       |  3       | 38       |  0       |\n",
       "| 4        | 1        | squamous | 126      | 1        | 60       |  9       | 63       | 10       |\n",
       "| 5        | 1        | squamous | 118      | 1        | 70       | 11       | 65       | 10       |\n",
       "\n"
      ],
      "text/plain": [
       "  X trt celltype time status karno diagtime age prior\n",
       "1 1 1   squamous  72  1      60     7       69   0   \n",
       "2 2 1   squamous 411  1      70     5       64  10   \n",
       "3 3 1   squamous 228  1      60     3       38   0   \n",
       "4 4 1   squamous 126  1      60     9       63  10   \n",
       "5 5 1   squamous 118  1      70    11       65  10   "
      ]
     },
     "metadata": {},
     "output_type": "display_data"
    }
   ],
   "source": [
    "#Inspecting the first few rows of the dataset\n",
    "head(sur_data,5)"
   ]
  },
  {
   "cell_type": "code",
   "execution_count": 178,
   "metadata": {},
   "outputs": [
    {
     "data": {
      "text/html": [
       "<table>\n",
       "<thead><tr><th></th><th scope=col>X</th><th scope=col>trt</th><th scope=col>celltype</th><th scope=col>time</th><th scope=col>status</th><th scope=col>karno</th><th scope=col>diagtime</th><th scope=col>age</th><th scope=col>prior</th></tr></thead>\n",
       "<tbody>\n",
       "\t<tr><th scope=row>133</th><td>133  </td><td>2    </td><td>large</td><td>133  </td><td>1    </td><td>75   </td><td> 1   </td><td>65   </td><td> 0   </td></tr>\n",
       "\t<tr><th scope=row>134</th><td>134  </td><td>2    </td><td>large</td><td>111  </td><td>1    </td><td>60   </td><td> 5   </td><td>64   </td><td> 0   </td></tr>\n",
       "\t<tr><th scope=row>135</th><td>135  </td><td>2    </td><td>large</td><td>231  </td><td>1    </td><td>70   </td><td>18   </td><td>67   </td><td>10   </td></tr>\n",
       "\t<tr><th scope=row>136</th><td>136  </td><td>2    </td><td>large</td><td>378  </td><td>1    </td><td>80   </td><td> 4   </td><td>65   </td><td> 0   </td></tr>\n",
       "\t<tr><th scope=row>137</th><td>137  </td><td>2    </td><td>large</td><td> 49  </td><td>1    </td><td>30   </td><td> 3   </td><td>37   </td><td> 0   </td></tr>\n",
       "</tbody>\n",
       "</table>\n"
      ],
      "text/latex": [
       "\\begin{tabular}{r|lllllllll}\n",
       "  & X & trt & celltype & time & status & karno & diagtime & age & prior\\\\\n",
       "\\hline\n",
       "\t133 & 133   & 2     & large & 133   & 1     & 75    &  1    & 65    &  0   \\\\\n",
       "\t134 & 134   & 2     & large & 111   & 1     & 60    &  5    & 64    &  0   \\\\\n",
       "\t135 & 135   & 2     & large & 231   & 1     & 70    & 18    & 67    & 10   \\\\\n",
       "\t136 & 136   & 2     & large & 378   & 1     & 80    &  4    & 65    &  0   \\\\\n",
       "\t137 & 137   & 2     & large &  49   & 1     & 30    &  3    & 37    &  0   \\\\\n",
       "\\end{tabular}\n"
      ],
      "text/markdown": [
       "\n",
       "| <!--/--> | X | trt | celltype | time | status | karno | diagtime | age | prior |\n",
       "|---|---|---|---|---|---|---|---|---|---|\n",
       "| 133 | 133   | 2     | large | 133   | 1     | 75    |  1    | 65    |  0    |\n",
       "| 134 | 134   | 2     | large | 111   | 1     | 60    |  5    | 64    |  0    |\n",
       "| 135 | 135   | 2     | large | 231   | 1     | 70    | 18    | 67    | 10    |\n",
       "| 136 | 136   | 2     | large | 378   | 1     | 80    |  4    | 65    |  0    |\n",
       "| 137 | 137   | 2     | large |  49   | 1     | 30    |  3    | 37    |  0    |\n",
       "\n"
      ],
      "text/plain": [
       "    X   trt celltype time status karno diagtime age prior\n",
       "133 133 2   large    133  1      75     1       65   0   \n",
       "134 134 2   large    111  1      60     5       64   0   \n",
       "135 135 2   large    231  1      70    18       67  10   \n",
       "136 136 2   large    378  1      80     4       65   0   \n",
       "137 137 2   large     49  1      30     3       37   0   "
      ]
     },
     "metadata": {},
     "output_type": "display_data"
    }
   ],
   "source": [
    "##Inspecting the last few rows of the dataset\n",
    "tail(sur_data,5)"
   ]
  },
  {
   "cell_type": "markdown",
   "metadata": {},
   "source": [
    "# Data Cleaning"
   ]
  },
  {
   "cell_type": "code",
   "execution_count": 179,
   "metadata": {},
   "outputs": [],
   "source": [
    "#Removing unwanted Columns \n",
    "sur_data=sur_data[2:ncol(sur_data)]"
   ]
  },
  {
   "cell_type": "code",
   "execution_count": 180,
   "metadata": {},
   "outputs": [],
   "source": [
    "#Renaming the columns of the dataset\n",
    "colnames(sur_data) = c('Treatment', 'Celltype', 'Time', 'Status' ,'Karno', 'DiagnosisTime' ,'Age', 'Prior')"
   ]
  },
  {
   "cell_type": "code",
   "execution_count": 181,
   "metadata": {},
   "outputs": [
    {
     "name": "stdout",
     "output_type": "stream",
     "text": [
      "'data.frame':\t137 obs. of  8 variables:\n",
      " $ Treatment    : int  1 1 1 1 1 1 1 1 1 1 ...\n",
      " $ Celltype     : chr  \"squamous\" \"squamous\" \"squamous\" \"squamous\" ...\n",
      " $ Time         : int  72 411 228 126 118 10 82 110 314 100 ...\n",
      " $ Status       : int  1 1 1 1 1 1 1 1 1 0 ...\n",
      " $ Karno        : int  60 70 60 60 70 20 40 80 50 70 ...\n",
      " $ DiagnosisTime: int  7 5 3 9 11 5 10 29 18 6 ...\n",
      " $ Age          : int  69 64 38 63 65 49 69 68 43 70 ...\n",
      " $ Prior        : int  0 10 0 10 10 0 10 0 0 0 ...\n"
     ]
    }
   ],
   "source": [
    "#Inspecting the structure of the dataset\n",
    "str(sur_data)"
   ]
  },
  {
   "cell_type": "code",
   "execution_count": 182,
   "metadata": {},
   "outputs": [
    {
     "name": "stdout",
     "output_type": "stream",
     "text": [
      "[1] \"There are no missing values in the dataset\"\n"
     ]
    }
   ],
   "source": [
    "#Checking for missing Values\n",
    "if (sum(complete.cases(sur_data))==nrow(sur_data)){\n",
    "    print(\"There are no missing values in the dataset\")\n",
    "}else{\n",
    "    print(\"There are missing values in the dataset\")\n",
    "}"
   ]
  },
  {
   "cell_type": "code",
   "execution_count": 183,
   "metadata": {},
   "outputs": [
    {
     "data": {
      "text/plain": [
       "   Treatment       Celltype              Time           Status      \n",
       " Min.   :1.000   Length:137         Min.   :  1.0   Min.   :0.0000  \n",
       " 1st Qu.:1.000   Class :character   1st Qu.: 25.0   1st Qu.:1.0000  \n",
       " Median :1.000   Mode  :character   Median : 80.0   Median :1.0000  \n",
       " Mean   :1.496                      Mean   :121.6   Mean   :0.9343  \n",
       " 3rd Qu.:2.000                      3rd Qu.:144.0   3rd Qu.:1.0000  \n",
       " Max.   :2.000                      Max.   :999.0   Max.   :1.0000  \n",
       "     Karno       DiagnosisTime         Age            Prior      \n",
       " Min.   :10.00   Min.   : 1.000   Min.   :34.00   Min.   : 0.00  \n",
       " 1st Qu.:40.00   1st Qu.: 3.000   1st Qu.:51.00   1st Qu.: 0.00  \n",
       " Median :60.00   Median : 5.000   Median :62.00   Median : 0.00  \n",
       " Mean   :58.57   Mean   : 8.774   Mean   :58.31   Mean   : 2.92  \n",
       " 3rd Qu.:75.00   3rd Qu.:11.000   3rd Qu.:66.00   3rd Qu.:10.00  \n",
       " Max.   :99.00   Max.   :87.000   Max.   :81.00   Max.   :10.00  "
      ]
     },
     "metadata": {},
     "output_type": "display_data"
    }
   ],
   "source": [
    "#Checking the summary of the dataset\n",
    "summary(sur_data)"
   ]
  },
  {
   "cell_type": "code",
   "execution_count": 184,
   "metadata": {},
   "outputs": [
    {
     "data": {
      "image/png": "[encoded data removed]",
      "text/plain": [
       "plot without title"
      ]
     },
     "metadata": {},
     "output_type": "display_data"
    },
    {
     "data": {
      "image/png": "[encoded data removed]",
      "text/plain": [
       "plot without title"
      ]
     },
     "metadata": {},
     "output_type": "display_data"
    }
   ],
   "source": [
    "#On inspecting the summary it is apparent that Time column and the Diagonisis time have outliers \n",
    "#Lets confirm it using boxplots\n",
    "boxplot(sur_data$DiagnosisTime , ylab = 'Diagnosis Time')\n",
    "boxplot(sur_data$Time , ylab = 'Time')"
   ]
  },
  {
   "cell_type": "code",
   "execution_count": 185,
   "metadata": {},
   "outputs": [],
   "source": [
    "#It is very clear that both fields have extreme outliers \n",
    "#we need to handle them as outliers largely corrupt the analysis\n",
    "\n",
    "#Generally if there are a very low number of outliers we can eliminate the rows that have them\n",
    "#But since survival datasets are very small we cannot afford to do so \n",
    "#Thus we use an appropriate median imputation method "
   ]
  },
  {
   "cell_type": "code",
   "execution_count": 186,
   "metadata": {},
   "outputs": [],
   "source": [
    "#We shall use the outliers package \n",
    "library(outliers)"
   ]
  },
  {
   "cell_type": "code",
   "execution_count": 193,
   "metadata": {},
   "outputs": [],
   "source": [
    "#Handling outliers \n",
    "#This line has to be repeated until all outliers are removed \n",
    "sur_data$Time = rm.outlier(sur_data$Time , median = T , fill = T)"
   ]
  },
  {
   "cell_type": "code",
   "execution_count": 194,
   "metadata": {
    "scrolled": true
   },
   "outputs": [
    {
     "data": {
      "image/png": "[encoded data removed]",
      "text/plain": [
       "plot without title"
      ]
     },
     "metadata": {},
     "output_type": "display_data"
    }
   ],
   "source": [
    "#Now we inspect the boxplot of the Time column and find that there are no outiers \n",
    "boxplot(sur_data$Time)"
   ]
  },
  {
   "cell_type": "code",
   "execution_count": 207,
   "metadata": {},
   "outputs": [],
   "source": [
    "#Repeating the same process for the diagnosis time column \n",
    "sur_data$DiagnosisTime = rm.outlier(sur_data$DiagnosisTime , median = T , fill = T)"
   ]
  },
  {
   "cell_type": "code",
   "execution_count": 208,
   "metadata": {},
   "outputs": [
    {
     "data": {
      "image/png": "[encoded data removed]",
      "text/plain": [
       "plot without title"
      ]
     },
     "metadata": {},
     "output_type": "display_data"
    }
   ],
   "source": [
    "boxplot(sur_data$DiagnosisTime) # We now see that the outliers have been removed "
   ]
  },
  {
   "cell_type": "code",
   "execution_count": 209,
   "metadata": {},
   "outputs": [
    {
     "data": {
      "text/plain": [
       "   Treatment       Celltype              Time            Status      \n",
       " Min.   :1.000   Length:137         Min.   :  1.00   Min.   :0.0000  \n",
       " 1st Qu.:1.000   Class :character   1st Qu.: 25.00   1st Qu.:1.0000  \n",
       " Median :1.000   Mode  :character   Median : 73.00   Median :1.0000  \n",
       " Mean   :1.496                      Mean   : 67.74   Mean   :0.9343  \n",
       " 3rd Qu.:2.000                      3rd Qu.: 97.00   3rd Qu.:1.0000  \n",
       " Max.   :2.000                      Max.   :201.00   Max.   :1.0000  \n",
       "     Karno       DiagnosisTime         Age            Prior      \n",
       " Min.   :10.00   Min.   : 1.000   Min.   :34.00   Min.   : 0.00  \n",
       " 1st Qu.:40.00   1st Qu.: 3.000   1st Qu.:51.00   1st Qu.: 0.00  \n",
       " Median :60.00   Median : 5.000   Median :62.00   Median : 0.00  \n",
       " Mean   :58.57   Mean   : 5.723   Mean   :58.31   Mean   : 2.92  \n",
       " 3rd Qu.:75.00   3rd Qu.: 8.000   3rd Qu.:66.00   3rd Qu.:10.00  \n",
       " Max.   :99.00   Max.   :15.000   Max.   :81.00   Max.   :10.00  "
      ]
     },
     "metadata": {},
     "output_type": "display_data"
    }
   ],
   "source": [
    "#Once again checking the summary of the data \n",
    "summary(sur_data)"
   ]
  },
  {
   "cell_type": "code",
   "execution_count": 210,
   "metadata": {},
   "outputs": [],
   "source": [
    "#We now see that there are no missing values or outliers \n"
   ]
  },
  {
   "cell_type": "code",
   "execution_count": 217,
   "metadata": {},
   "outputs": [],
   "source": [
    "#We now handle the values in the treatment column \n",
    "sur_data$Treatment = ifelse(sur_data$Treatment==1 , 'Treatment_1' , 'Treatment_2')"
   ]
  },
  {
   "cell_type": "markdown",
   "metadata": {},
   "source": [
    "# Exploaratory Analysis &  Data Visualisation"
   ]
  },
  {
   "cell_type": "code",
   "execution_count": 221,
   "metadata": {},
   "outputs": [
    {
     "data": {
      "text/plain": [
       "$Treatment\n",
       "\n",
       "Treatment_1 Treatment_2 \n",
       "         69          68 \n",
       "\n",
       "$Celltype\n",
       "\n",
       "    adeno     large smallcell  squamous \n",
       "       27        27        48        35 \n"
      ]
     },
     "metadata": {},
     "output_type": "display_data"
    }
   ],
   "source": [
    "#Applying the table function on all the categorical columns \n",
    "sapply(sur_data[,c(1,2)] , table)"
   ]
  },
  {
   "cell_type": "code",
   "execution_count": 222,
   "metadata": {},
   "outputs": [
    {
     "data": {
      "text/plain": [
       "\n",
       "Treatment_1 Treatment_2 \n",
       "  0.5036496   0.4963504 "
      ]
     },
     "metadata": {},
     "output_type": "display_data"
    }
   ],
   "source": [
    "#Proportion of treatments\n",
    "prop.table(table(sur_data$Treatment))"
   ]
  },
  {
   "cell_type": "code",
   "execution_count": 223,
   "metadata": {},
   "outputs": [
    {
     "data": {
      "text/plain": [
       "\n",
       "    adeno     large smallcell  squamous \n",
       "0.1970803 0.1970803 0.3503650 0.2554745 "
      ]
     },
     "metadata": {},
     "output_type": "display_data"
    }
   ],
   "source": [
    "#Proportion of celltypes\n",
    "prop.table(table(sur_data$Celltype))"
   ]
  },
  {
   "cell_type": "code",
   "execution_count": 235,
   "metadata": {},
   "outputs": [
    {
     "data": {
      "image/png": "[encoded data removed]",
      "text/plain": [
       "Plot with title \"Histogram of Survival Time\""
      ]
     },
     "metadata": {},
     "output_type": "display_data"
    }
   ],
   "source": [
    "#Visualisation\n",
    "\n",
    "crp = colorRampPalette(c('yellow' , 'red'))\n",
    "\n",
    "#Survival time histogram\n",
    "hist(sur_data$Time , breaks = 8 , c = crp(11) , xlab = 'Survival Time' , main = 'Histogram of Survival Time')\n",
    "\n",
    "#We see that higher the survival time lesser is the frequency "
   ]
  },
  {
   "cell_type": "code",
   "execution_count": 281,
   "metadata": {},
   "outputs": [
    {
     "data": {
      "image/png": "[encoded data removed]",
      "text/plain": [
       "plot without title"
      ]
     },
     "metadata": {},
     "output_type": "display_data"
    },
    {
     "data": {
      "image/png": "[encoded data removed]",
      "text/plain": [
       "plot without title"
      ]
     },
     "metadata": {},
     "output_type": "display_data"
    }
   ],
   "source": [
    "\n",
    "#Stacked histogram of the survival time according to the treatment \n",
    "ggplot(sur_data , aes(x = Time, fill = Treatment))+geom_histogram(position = \"identity\" , bins = 15)+\n",
    "  labs(x = \"Survival Time\" , y = \"Frequency\" , title = \"Histogram of Survival Time\")+ \n",
    "  theme(plot.title = element_text(hjust = 0.5) , aspect.ratio = 0.5)\n",
    "\n",
    "#Density plot of survival time according to treatment\n",
    "ggplot(sur_data , aes(x = Time, fill = Treatment))+geom_density(position = \"identity\"  , alpha = 0.5)+\n",
    "  labs(x = \"Survival Time\" , y = \"Frequency\" , title = \"Density Plot  of Survival Time\")+ \n",
    "  theme(plot.title = element_text(hjust = 0.5) , aspect.ratio = 0.5)\n",
    "\n",
    "\n",
    "\n",
    "\n",
    "\n"
   ]
  },
  {
   "cell_type": "code",
   "execution_count": 280,
   "metadata": {},
   "outputs": [
    {
     "data": {
      "image/png": "[encoded data removed]",
      "text/plain": [
       "plot without title"
      ]
     },
     "metadata": {},
     "output_type": "display_data"
    },
    {
     "data": {
      "image/png": "[encoded data removed]",
      "text/plain": [
       "plot without title"
      ]
     },
     "metadata": {},
     "output_type": "display_data"
    }
   ],
   "source": [
    "#Stacked histogram of the survival time according to the celltype\n",
    "ggplot(sur_data , aes(x = Time, fill = Celltype))+geom_histogram(position = \"identity\" , bins = 15)+\n",
    "  labs(x = \"Survival Time\" , y = \"Frequency\" , title = \"Histogram of Survival Time\")+ \n",
    "  theme(plot.title = element_text(hjust = 0.5) , aspect.ratio = 0.5)\n",
    "\n",
    "#Density plot of survival time according to treatment\n",
    "ggplot(sur_data , aes(x = Time, fill = Celltype))+geom_density(position = \"identity\" , alpha = 0.5 )+\n",
    "  labs(x = \"Survival Time\" , y = \"Frequency\" , title = \"Density Plot  of Survival Time\")+ \n",
    "  theme(plot.title = element_text(hjust = 0.5) , aspect.ratio = 0.5)\n",
    "\n",
    "\n",
    "#We find that the mean survival time of squamous is higher than small cell"
   ]
  },
  {
   "cell_type": "code",
   "execution_count": 261,
   "metadata": {},
   "outputs": [
    {
     "data": {
      "image/png": "[encoded data removed]",
      "text/plain": [
       "plot without title"
      ]
     },
     "metadata": {},
     "output_type": "display_data"
    }
   ],
   "source": [
    "#Density plot of the karnofsky score \n",
    "#A higher score is better \n",
    "ggplot(sur_data , aes(x = Karno , fill = \"red\"))+geom_density()+\n",
    "  labs(x = \"Karnofsky Score\" , y = \"Frequency\" , title = \"Density Plot  of Karnofsky Score\")+ \n",
    "  theme(plot.title = element_text(hjust = 0.5) , aspect.ratio = 0.6)\n",
    "\n",
    "#We find that the mean is around 55 to 60 "
   ]
  },
  {
   "cell_type": "code",
   "execution_count": 255,
   "metadata": {},
   "outputs": [
    {
     "data": {
      "text/html": [
       "58.5693430656934"
      ],
      "text/latex": [
       "58.5693430656934"
      ],
      "text/markdown": [
       "58.5693430656934"
      ],
      "text/plain": [
       "[1] 58.56934"
      ]
     },
     "metadata": {},
     "output_type": "display_data"
    }
   ],
   "source": [
    "mean(sur_data$Karno)"
   ]
  },
  {
   "cell_type": "code",
   "execution_count": 269,
   "metadata": {},
   "outputs": [
    {
     "data": {
      "image/png": "[encoded data removed]",
      "text/plain": [
       "plot without title"
      ]
     },
     "metadata": {},
     "output_type": "display_data"
    }
   ],
   "source": [
    "#Density plot  of age \n",
    "ggplot(sur_data , aes(x = Age , fill = \"red\"))+geom_density()+\n",
    "  labs(x = \"Age\" , y = \"Frequency\" , title = \"Density Plot  of Age\")+ \n",
    "  theme(plot.title = element_text(hjust = 0.5) , aspect.ratio = 0.5)\n",
    "\n",
    "#The mean age is between 60 and 70 \n"
   ]
  },
  {
   "cell_type": "code",
   "execution_count": 266,
   "metadata": {},
   "outputs": [
    {
     "data": {
      "image/png": "[encoded data removed]",
      "text/plain": [
       "plot without title"
      ]
     },
     "metadata": {},
     "output_type": "display_data"
    }
   ],
   "source": [
    "#Density plot of diagnosis time \n",
    "  ggplot(sur_data , aes(x = DiagnosisTime , fill = \"green\"))+geom_density()+\n",
    "  labs(x = \"Diagnosis Time\" , y = \"Frequency\" , title = \"Density Plot  of Diagnosis time\")+ \n",
    "  theme(plot.title = element_text(hjust = 0.5) , aspect.ratio = 0.5)\n",
    "\n",
    "#The median diagnosis time is around 5 months"
   ]
  },
  {
   "cell_type": "code",
   "execution_count": 278,
   "metadata": {},
   "outputs": [
    {
     "data": {
      "text/html": [
       "<dl class=dl-horizontal>\n",
       "\t<dt>adeno</dt>\n",
       "\t\t<dd>4.48148148148148</dd>\n",
       "\t<dt>large</dt>\n",
       "\t\t<dd>7.25925925925926</dd>\n",
       "\t<dt>smallcell</dt>\n",
       "\t\t<dd>5.02083333333333</dd>\n",
       "\t<dt>squamous</dt>\n",
       "\t\t<dd>6.45714285714286</dd>\n",
       "</dl>\n"
      ],
      "text/latex": [
       "\\begin{description*}\n",
       "\\item[adeno] 4.48148148148148\n",
       "\\item[large] 7.25925925925926\n",
       "\\item[smallcell] 5.02083333333333\n",
       "\\item[squamous] 6.45714285714286\n",
       "\\end{description*}\n"
      ],
      "text/markdown": [
       "adeno\n",
       ":   4.48148148148148large\n",
       ":   7.25925925925926smallcell\n",
       ":   5.02083333333333squamous\n",
       ":   6.45714285714286\n",
       "\n"
      ],
      "text/plain": [
       "    adeno     large smallcell  squamous \n",
       " 4.481481  7.259259  5.020833  6.457143 "
      ]
     },
     "metadata": {},
     "output_type": "display_data"
    },
    {
     "data": {
      "image/png": "[encoded data removed]",
      "text/plain": [
       "plot without title"
      ]
     },
     "metadata": {},
     "output_type": "display_data"
    }
   ],
   "source": [
    "#Density plot of diagnosis time by cell type\n",
    "  ggplot(sur_data , aes(x = DiagnosisTime , fill = Celltype))+geom_density(position = 'identity' , alpha = 0.5)+\n",
    "  labs(x = \"Diagnosis Time\" , y = \"Frequency\" , title = \"Density Plot  of Diagnosis time\")+ \n",
    "  theme(plot.title = element_text(hjust = 0.5) , aspect.ratio = 0.5)\n",
    "\n",
    "tapply(sur_data$DiagnosisTime , sur_data$Celltype ,mean)\n",
    "#The mean diagnosis time of adeno is the lowest and squamous is the largest"
   ]
  },
  {
   "cell_type": "markdown",
   "metadata": {},
   "source": [
    "# Survival Models"
   ]
  },
  {
   "cell_type": "code",
   "execution_count": 282,
   "metadata": {},
   "outputs": [],
   "source": [
    "#Survival Model using Kaplan meier Estimate \n",
    "\n",
    "#Loading the package \n",
    "library(survival)"
   ]
  },
  {
   "cell_type": "code",
   "execution_count": 285,
   "metadata": {},
   "outputs": [],
   "source": [
    "#Creating the survival object \n",
    "surv_object = survival::Surv(time = sur_data$Time , event = sur_data$Status , \n",
    "               type = \"right\")"
   ]
  },
  {
   "cell_type": "code",
   "execution_count": 296,
   "metadata": {},
   "outputs": [],
   "source": [
    "#Fitting the survival object \n",
    "surv_fit = survfit(surv_object~1 , sur_data)"
   ]
  },
  {
   "cell_type": "code",
   "execution_count": 300,
   "metadata": {},
   "outputs": [
    {
     "data": {
      "image/png": "[encoded data removed]",
      "text/plain": [
       "plot without title"
      ]
     },
     "metadata": {},
     "output_type": "display_data"
    }
   ],
   "source": [
    "##### Plotting the Survival Object\n",
    "\n",
    "library(ggfortify)\n",
    "autoplot(surv_fit)+\n",
    "  labs(x = \"Survival Time\" , y = \"Survival Probability\" , title = \"Kaplan Meier Estimate\")+ \n",
    "  theme(plot.title = element_text(hjust = 0.5) , aspect.ratio = 0.5)\n",
    "\n",
    "#We see that there is a gradual decrease in survival probability with increase in time until about 75 days \n",
    "#At 75 days the survival probability sharply decreases after which again there is a gradual decrease in survival probability\n",
    "\n"
   ]
  },
  {
   "cell_type": "code",
   "execution_count": 302,
   "metadata": {},
   "outputs": [
    {
     "data": {
      "image/png": "[encoded data removed]",
      "text/plain": [
       "plot without title"
      ]
     },
     "metadata": {},
     "output_type": "display_data"
    }
   ],
   "source": [
    "#Stratifying data according to the Treatment\n",
    "surv_fit2 = survfit(surv_object~Treatment , sur_data)\n",
    "\n",
    "library(ggfortify)\n",
    "autoplot(surv_fit2)+\n",
    "  labs(x = \"Survival Time\" , y = \"Survival Probability\" , title = \"Kaplan Meier Estimate\")+ \n",
    "  theme(plot.title = element_text(hjust = 0.5) , aspect.ratio = 0.5)\n",
    "\n",
    "\n",
    "#It is seen that the survival probability for treatment 1 is generally higher than treatment 2 except for some points \n",
    "#at the beginning \n",
    "\n",
    "#For both the types there is a sharp decrease in survival probability at around  75 days "
   ]
  },
  {
   "cell_type": "code",
   "execution_count": 305,
   "metadata": {},
   "outputs": [
    {
     "data": {
      "image/png": "[encoded data removed]",
      "text/plain": [
       "plot without title"
      ]
     },
     "metadata": {},
     "output_type": "display_data"
    }
   ],
   "source": [
    "#Stratifying data according to the Cell Type \n",
    "surv_fit3 = survfit(surv_object~Celltype , sur_data)\n",
    "\n",
    "library(ggfortify)\n",
    "autoplot(surv_fit2)+\n",
    "  labs(x = \"Survival Time\" , y = \"Survival Probability\" , title = \"Kaplan Meier Estimate\")+ \n",
    "  theme(plot.title = element_text(hjust = 0.5) , aspect.ratio = 0.5)\n",
    "\n",
    "\n",
    "#We can see that overall for "
   ]
  },
  {
   "cell_type": "code",
   "execution_count": 329,
   "metadata": {},
   "outputs": [],
   "source": [
    "#Coxproportional hazards model \n",
    "\n",
    "#Here we examine the effect of various covariates on the survival probability \n",
    "\n",
    "cox_mod = coxph(formula = surv_object~Treatment+Karno+Age+Celltype+Prior,data = sur_data)"
   ]
  },
  {
   "cell_type": "code",
   "execution_count": 331,
   "metadata": {},
   "outputs": [
    {
     "data": {
      "text/plain": [
       "Call:\n",
       "coxph(formula = surv_object ~ Treatment + Karno + Age + Celltype + \n",
       "    Prior, data = sur_data)\n",
       "\n",
       "  n= 137, number of events= 128 \n",
       "\n",
       "                          coef exp(coef)  se(coef)      z Pr(>|z|)    \n",
       "TreatmentTreatment_2  0.438123  1.549795  0.193984  2.259   0.0239 *  \n",
       "Karno                -0.036240  0.964409  0.005175 -7.003  2.5e-12 ***\n",
       "Age                  -0.019134  0.981048  0.009255 -2.067   0.0387 *  \n",
       "Celltypelarge        -0.348293  0.705892  0.295356 -1.179   0.2383    \n",
       "Celltypesmallcell     0.100462  1.105681  0.260579  0.386   0.6998    \n",
       "Celltypesquamous     -0.230230  0.794351  0.278045 -0.828   0.4077    \n",
       "Prior                -0.011956  0.988116  0.021412 -0.558   0.5766    \n",
       "---\n",
       "Signif. codes:  0 '***' 0.001 '**' 0.01 '*' 0.05 '.' 0.1 ' ' 1\n",
       "\n",
       "                     exp(coef) exp(-coef) lower .95 upper .95\n",
       "TreatmentTreatment_2    1.5498     0.6452    1.0596    2.2667\n",
       "Karno                   0.9644     1.0369    0.9547    0.9742\n",
       "Age                     0.9810     1.0193    0.9634    0.9990\n",
       "Celltypelarge           0.7059     1.4166    0.3957    1.2593\n",
       "Celltypesmallcell       1.1057     0.9044    0.6635    1.8426\n",
       "Celltypesquamous        0.7944     1.2589    0.4606    1.3699\n",
       "Prior                   0.9881     1.0120    0.9475    1.0305\n",
       "\n",
       "Concordance= 0.729  (se = 0.021 )\n",
       "Likelihood ratio test= 57.92  on 7 df,   p=4e-10\n",
       "Wald test            = 58.35  on 7 df,   p=3e-10\n",
       "Score (logrank) test = 63.2  on 7 df,   p=3e-11\n"
      ]
     },
     "metadata": {},
     "output_type": "display_data"
    }
   ],
   "source": [
    "#Getting the summary\n",
    "summary(cox_mod)\n",
    "#We see that the treatment type , Age and karnofsky score are significant "
   ]
  },
  {
   "cell_type": "code",
   "execution_count": 362,
   "metadata": {},
   "outputs": [
    {
     "data": {
      "image/png": "[encoded data removed]",
      "text/plain": [
       "plot without title"
      ]
     },
     "metadata": {},
     "output_type": "display_data"
    }
   ],
   "source": [
    "#Visualisation of the cox model \n",
    "cox_fitted = survfit(cox_mod)\n",
    "\n",
    "autoplot(cox_fitted)+\n",
    "  labs(x = \"Survival Time\" , y = \"Survival Probability\" , title = \"Cox Proportional Hazards Model\")+ \n",
    "  theme(plot.title = element_text(hjust = 0.5) , aspect.ratio = 0.5)\n",
    "\n",
    "#As with the previous model it is seen that there is a sharp decrease in survival probability at 75 days"
   ]
  },
  {
   "cell_type": "code",
   "execution_count": 338,
   "metadata": {},
   "outputs": [],
   "source": [
    "#Survival trees \n",
    "\n",
    "library(ranger)"
   ]
  },
  {
   "cell_type": "code",
   "execution_count": 339,
   "metadata": {},
   "outputs": [],
   "source": [
    "#Fitting the model\n",
    "\n",
    "sur_tree = ranger(surv_object ~ Treatment+Karno+Age+Celltype+Prior,data = sur_data , \n",
    "                 importance = 'permutation' , splitrule = 'extratrees' , seed = 33)"
   ]
  },
  {
   "cell_type": "code",
   "execution_count": 346,
   "metadata": {},
   "outputs": [],
   "source": [
    "#Averaging all the trees \n",
    "dtimes = sur_tree$unique.death.times\n",
    "dprob = as.data.frame(sur_tree$survival)\n",
    "mean_prob = sapply(dprob , mean)"
   ]
  },
  {
   "cell_type": "code",
   "execution_count": 363,
   "metadata": {
    "scrolled": true
   },
   "outputs": [
    {
     "data": {
      "image/png": "[encoded data removed]",
      "text/plain": [
       "Plot with title \"Survival Tree\""
      ]
     },
     "metadata": {},
     "output_type": "display_data"
    }
   ],
   "source": [
    "#Plotting the results \n",
    "plot(dtimes , mean_prob , type = \"s\" , col = 'red' , xlab = 'Time' , ylab = 'Survival Probability' , main = \"Survival Tree\" )\n",
    "\n",
    "#as with the previous models in this model as well there is a sharp decrease n survival probability at 75 days "
   ]
  },
  {
   "cell_type": "code",
   "execution_count": 375,
   "metadata": {},
   "outputs": [],
   "source": [
    "#Creating individual dataframes for the models\n",
    "\n",
    "km_mod = data.frame(Time = surv_fit$time , Probability = surv_fit$surv)\n",
    "\n",
    "km_mod$Model = 'Kaplan Meier'\n",
    "\n",
    "coxp_mod = data.frame(Time = cox_fitted$time , Probability = cox_fitted$surv)\n",
    "\n",
    "coxp_mod$Model = 'Cox Proportional'\n",
    "\n",
    "tree_mod = data.frame(Time = dtimes , Probability = mean_prob)\n",
    "\n",
    "tree_mod$Model = 'Survival Tree'"
   ]
  },
  {
   "cell_type": "code",
   "execution_count": 376,
   "metadata": {},
   "outputs": [
    {
     "data": {
      "text/html": [
       "98"
      ],
      "text/latex": [
       "98"
      ],
      "text/markdown": [
       "98"
      ],
      "text/plain": [
       "[1] 98"
      ]
     },
     "metadata": {},
     "output_type": "display_data"
    },
    {
     "data": {
      "text/html": [
       "98"
      ],
      "text/latex": [
       "98"
      ],
      "text/markdown": [
       "98"
      ],
      "text/plain": [
       "[1] 98"
      ]
     },
     "metadata": {},
     "output_type": "display_data"
    },
    {
     "data": {
      "text/html": [
       "98"
      ],
      "text/latex": [
       "98"
      ],
      "text/markdown": [
       "98"
      ],
      "text/plain": [
       "[1] 98"
      ]
     },
     "metadata": {},
     "output_type": "display_data"
    }
   ],
   "source": [
    "#Checking the lengths of the dataframes \n",
    "nrow(km_mod)\n",
    "nrow(coxp_mod)\n",
    "nrow(tree_mod)"
   ]
  },
  {
   "cell_type": "code",
   "execution_count": 377,
   "metadata": {},
   "outputs": [],
   "source": [
    "#Combing the dataframes \n",
    "all_mods = rbind(km_mod , coxp_mod , tree_mod)"
   ]
  },
  {
   "cell_type": "code",
   "execution_count": 378,
   "metadata": {},
   "outputs": [
    {
     "data": {
      "text/html": [
       "<table>\n",
       "<thead><tr><th scope=col>Time</th><th scope=col>Probability</th><th scope=col>Model</th></tr></thead>\n",
       "<tbody>\n",
       "\t<tr><td> 1          </td><td>0.9854015   </td><td>Kaplan Meier</td></tr>\n",
       "\t<tr><td> 2          </td><td>0.9781022   </td><td>Kaplan Meier</td></tr>\n",
       "\t<tr><td> 3          </td><td>0.9708029   </td><td>Kaplan Meier</td></tr>\n",
       "\t<tr><td> 4          </td><td>0.9635036   </td><td>Kaplan Meier</td></tr>\n",
       "\t<tr><td> 7          </td><td>0.9416058   </td><td>Kaplan Meier</td></tr>\n",
       "\t<tr><td> 8          </td><td>0.9124088   </td><td>Kaplan Meier</td></tr>\n",
       "\t<tr><td>10          </td><td>0.8978102   </td><td>Kaplan Meier</td></tr>\n",
       "\t<tr><td>11          </td><td>0.8905109   </td><td>Kaplan Meier</td></tr>\n",
       "\t<tr><td>12          </td><td>0.8759124   </td><td>Kaplan Meier</td></tr>\n",
       "\t<tr><td>13          </td><td>0.8613139   </td><td>Kaplan Meier</td></tr>\n",
       "</tbody>\n",
       "</table>\n"
      ],
      "text/latex": [
       "\\begin{tabular}{r|lll}\n",
       " Time & Probability & Model\\\\\n",
       "\\hline\n",
       "\t  1           & 0.9854015    & Kaplan Meier\\\\\n",
       "\t  2           & 0.9781022    & Kaplan Meier\\\\\n",
       "\t  3           & 0.9708029    & Kaplan Meier\\\\\n",
       "\t  4           & 0.9635036    & Kaplan Meier\\\\\n",
       "\t  7           & 0.9416058    & Kaplan Meier\\\\\n",
       "\t  8           & 0.9124088    & Kaplan Meier\\\\\n",
       "\t 10           & 0.8978102    & Kaplan Meier\\\\\n",
       "\t 11           & 0.8905109    & Kaplan Meier\\\\\n",
       "\t 12           & 0.8759124    & Kaplan Meier\\\\\n",
       "\t 13           & 0.8613139    & Kaplan Meier\\\\\n",
       "\\end{tabular}\n"
      ],
      "text/markdown": [
       "\n",
       "| Time | Probability | Model |\n",
       "|---|---|---|\n",
       "|  1           | 0.9854015    | Kaplan Meier |\n",
       "|  2           | 0.9781022    | Kaplan Meier |\n",
       "|  3           | 0.9708029    | Kaplan Meier |\n",
       "|  4           | 0.9635036    | Kaplan Meier |\n",
       "|  7           | 0.9416058    | Kaplan Meier |\n",
       "|  8           | 0.9124088    | Kaplan Meier |\n",
       "| 10           | 0.8978102    | Kaplan Meier |\n",
       "| 11           | 0.8905109    | Kaplan Meier |\n",
       "| 12           | 0.8759124    | Kaplan Meier |\n",
       "| 13           | 0.8613139    | Kaplan Meier |\n",
       "\n"
      ],
      "text/plain": [
       "   Time Probability Model       \n",
       "1   1   0.9854015   Kaplan Meier\n",
       "2   2   0.9781022   Kaplan Meier\n",
       "3   3   0.9708029   Kaplan Meier\n",
       "4   4   0.9635036   Kaplan Meier\n",
       "5   7   0.9416058   Kaplan Meier\n",
       "6   8   0.9124088   Kaplan Meier\n",
       "7  10   0.8978102   Kaplan Meier\n",
       "8  11   0.8905109   Kaplan Meier\n",
       "9  12   0.8759124   Kaplan Meier\n",
       "10 13   0.8613139   Kaplan Meier"
      ]
     },
     "metadata": {},
     "output_type": "display_data"
    },
    {
     "data": {
      "text/plain": [
       "\n",
       "Cox Proportional     Kaplan Meier    Survival Tree \n",
       "              98               98               98 "
      ]
     },
     "metadata": {},
     "output_type": "display_data"
    }
   ],
   "source": [
    "#Viewing the head\n",
    "head(all_mods , 10)\n",
    "\n",
    "#Using table function \n",
    "table(all_mods$Model)"
   ]
  },
  {
   "cell_type": "code",
   "execution_count": 385,
   "metadata": {},
   "outputs": [
    {
     "data": {
      "image/png": "[encoded data removed]",
      "text/plain": [
       "plot without title"
      ]
     },
     "metadata": {},
     "output_type": "display_data"
    }
   ],
   "source": [
    "#Comparison plot of the models\n",
    "\n",
    "ggplot(data = all_mods , aes(x = Time , y = Probability , col = Model))+geom_step()+ labs(x = \"Survival Time\" , y = \"Survival Probability\" , title = \"Comparison of Survival Probability\")+ \n",
    "  theme(plot.title = element_text(hjust = 0.5) , aspect.ratio = 0.7)"
   ]
  },
  {
   "cell_type": "code",
   "execution_count": 386,
   "metadata": {},
   "outputs": [],
   "source": [
    "#Inferences from the comparison plot \n",
    "\n",
    "#1. The Survival Probability for all the three models are fairly similar upto about 60 days \n",
    "#2. The survival probability gradually decreases until this point \n",
    "#3. At about 75 days there is a sharp decrease in survival probability in all three models \n",
    "#4. After the point of sharpest descent once again there is a gradual decrease in survival probability \n",
    "#5. The Cox model has the lowest survival probability and the survival tree has the highest survival probability \n",
    "# beyond the point of steepest descent "
   ]
  },
  {
   "cell_type": "code",
   "execution_count": null,
   "metadata": {},
   "outputs": [],
   "source": []
  }
 ],
 "metadata": {
  "kernelspec": {
   "display_name": "R",
   "language": "R",
   "name": "ir"
  },
  "language_info": {
   "codemirror_mode": "r",
   "file_extension": ".r",
   "mimetype": "text/x-r-source",
   "name": "R",
   "pygments_lexer": "r",
   "version": "3.6.1"
  }
 },
 "nbformat": 4,
 "nbformat_minor": 4
}
